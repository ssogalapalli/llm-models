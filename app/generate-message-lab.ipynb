{
 "cells": [
  {
   "cell_type": "markdown",
   "id": "3e3b3999-4eda-49b9-9a72-a2d21a9420b0",
   "metadata": {},
   "source": [
    "YOUR FIRST LAB"
   ]
  },
  {
   "cell_type": "code",
   "execution_count": 2,
   "id": "2cba55d2-e4a5-41b7-affe-2f200c7fcb42",
   "metadata": {},
   "outputs": [],
   "source": [
    "from openai import OpenAI"
   ]
  },
  {
   "cell_type": "code",
   "execution_count": null,
   "id": "85a41e3d-80c7-4f8f-8532-318033d27c8b",
   "metadata": {},
   "outputs": [],
   "source": []
  }
 ],
 "metadata": {
  "kernelspec": {
   "display_name": "Python 3 (ipykernel)",
   "language": "python",
   "name": "python3"
  },
  "language_info": {
   "codemirror_mode": {
    "name": "ipython",
    "version": 3
   },
   "file_extension": ".py",
   "mimetype": "text/x-python",
   "name": "python",
   "nbconvert_exporter": "python",
   "pygments_lexer": "ipython3",
   "version": "3.11.13"
  }
 },
 "nbformat": 4,
 "nbformat_minor": 5
}
